{
  "nbformat": 4,
  "nbformat_minor": 0,
  "metadata": {
    "kernelspec": {
      "display_name": "Python 3",
      "language": "python",
      "name": "python3"
    },
    "language_info": {
      "codemirror_mode": {
        "name": "ipython",
        "version": 3
      },
      "file_extension": ".py",
      "mimetype": "text/x-python",
      "name": "python",
      "nbconvert_exporter": "python",
      "pygments_lexer": "ipython3",
      "version": "3.7.6"
    },
    "colab": {
      "name": "Ass2_Task_4_Bonus.ipynb",
      "provenance": []
    }
  },
  "cells": [
    {
      "cell_type": "code",
      "metadata": {
        "id": "0txKnd2gQjYk"
      },
      "source": [
        "# Copyright 2020 IITK EE604A Image Processing. All Rights Reserved.\n",
        "# \n",
        "# Licensed under the MIT License. Use and/or modification of this code outside of EE604 must reference:\n",
        "#\n",
        "# © IITK EE604A Image Processing \n",
        "# https://github.com/ee604/ee604_assignments\n",
        "#\n",
        "# Author: Shashi Kant Gupta, Chiranjeev Prachand and Prof K. S. Venkatesh, Department of Electrical Engineering, IIT Kanpur"
      ],
      "execution_count": null,
      "outputs": []
    },
    {
      "cell_type": "markdown",
      "metadata": {
        "id": "KJwXfKxpQjYv"
      },
      "source": [
        "# Task 4 (Bonus Question): Template Matching and Visual Search\n",
        "\n",
        "In this bonus task, you will study about template matching algorithm, which is used to search and find a template image in a larger image. You will then use this method and techniques you learned in task1, task2, and task3 to search for a given \"target\" image in a large cluttered \"search\" image. This task of finding a target image is usually called a visual search task.\n",
        "\n",
        "In this assignment, you will be using this method in a preliminary setting. But this method can be easily generalized to complex visual search tasks. Instead of directly using the image pixels, you first extract features of those images using some deep learning methods or other computer vision algorithms and then apply the template matching method on extracted features instead of the image pixels.\n",
        "\n",
        "**Theories:** \n",
        "* Template Matching: [http://www.cse.psu.edu/~rtc12/CSE486/lecture07.pdf](http://www.cse.psu.edu/~rtc12/CSE486/lecture07.pdf)\n",
        "* Tempalte Matching (Optional): [https://docs.adaptive-vision.com/4.7/studio/machine_vision_guide/TemplateMatching.html](https://docs.adaptive-vision.com/4.7/studio/machine_vision_guide/TemplateMatching.html)\n",
        "* Template Matching Wikipedia: [https://en.wikipedia.org/wiki/Template_matching](https://en.wikipedia.org/wiki/Template_matching)\n",
        "* Visual Search (Optional): [http://www.scholarpedia.org/article/Visual_search](http://www.scholarpedia.org/article/Visual_search)\n",
        "\n",
        "---\n",
        "\n",
        "### Your Task\n",
        "You will be given a set of visual search tasks containing 156 various target images to search in 156 corresponding search images. All image contains only English alphabets. You have to write a python function that will return the (x, y) position of the target in the given search image. You have to use the template matching approach to find the location of the target image. But there's a problem, somehow the provided dataset got corrupted, and it contains lots of noises in it. Smartly using some image enhancement methods to make the images clearer and then applying template matching algorithms could help. It's up to you how you use the techniques taught in EE604 lectures to get the best score. Your score will be evaluated as `score = num_correct_prediction/156`\n",
        "\n",
        "* Assume the target image is of the same size in the search image.\n",
        "* Assume the target image is in the same orientation in the search image.\n",
        "* You are free to use any OpenCV module except `cv2.matchTemplate()`.\n",
        "\n",
        "**Example of Visual Search Task:**\n",
        "![](https://github.com/ee604/ee604_assignments/raw/master/assignment_2/imgs/Example.png)\n",
        "\n",
        "---"
      ]
    },
    {
      "cell_type": "code",
      "metadata": {
        "id": "3cgsXe9FQjYx",
        "outputId": "64a718b9-97d5-47d1-93ff-0f73a4c673e1",
        "colab": {
          "base_uri": "https://localhost:8080/"
        }
      },
      "source": [
        "%%bash\n",
        "pip install git+https://github.com/ee604/ee604_plugins"
      ],
      "execution_count": 10,
      "outputs": [
        {
          "output_type": "stream",
          "text": [
            "Collecting git+https://github.com/ee604/ee604_plugins\n",
            "  Cloning https://github.com/ee604/ee604_plugins to /tmp/pip-req-build-o2ay80yo\n",
            "Requirement already satisfied (use --upgrade to upgrade): ee604-plugins==0.2.2 from git+https://github.com/ee604/ee604_plugins in /usr/local/lib/python3.6/dist-packages\n",
            "Building wheels for collected packages: ee604-plugins\n",
            "  Building wheel for ee604-plugins (setup.py): started\n",
            "  Building wheel for ee604-plugins (setup.py): finished with status 'done'\n",
            "  Created wheel for ee604-plugins: filename=ee604_plugins-0.2.2-cp36-none-any.whl size=2313 sha256=688aaf6f3be8cd578ad1e7c43f33db66ad3fd584a4e15b11a76fa0d83b46f606\n",
            "  Stored in directory: /tmp/pip-ephem-wheel-cache-vjm_p9ac/wheels/34/a8/1d/ae3b7d209ecde89b4800a47ec55a61e7503bb9548bbb975806\n",
            "Successfully built ee604-plugins\n"
          ],
          "name": "stdout"
        },
        {
          "output_type": "stream",
          "text": [
            "  Running command git clone -q https://github.com/ee604/ee604_plugins /tmp/pip-req-build-o2ay80yo\n"
          ],
          "name": "stderr"
        }
      ]
    },
    {
      "cell_type": "code",
      "metadata": {
        "id": "_YRA9Z0-QjY5",
        "outputId": "be0d70fa-e09a-4b38-8060-cef1a5e2e223",
        "colab": {
          "base_uri": "https://localhost:8080/"
        }
      },
      "source": [
        "# Importing required libraries\n",
        "\n",
        "import cv2\n",
        "import numpy as np\n",
        "from IPython.display import display\n",
        "from PIL import Image\n",
        "import matplotlib.pyplot as plt\n",
        "\n",
        "from ee604_plugins import download_dataset\n",
        "\n",
        "download_dataset(assignment_no=2, task_no=4)"
      ],
      "execution_count": 11,
      "outputs": [
        {
          "output_type": "stream",
          "text": [
            "Download Complete!\n"
          ],
          "name": "stdout"
        }
      ]
    },
    {
      "cell_type": "code",
      "metadata": {
        "id": "ZdjLSiUJQjZA"
      },
      "source": [
        "X_img = np.load(\"data/search_img.npy\")\n",
        "Y_img = np.load(\"data/target_img.npy\")\n",
        "M_img = np.load(\"data/mask_img.npy\")\n",
        "\n",
        "sample_target = np.copy(Y_img[0])\n",
        "sample_search = np.copy(X_img[0])"
      ],
      "execution_count": 12,
      "outputs": []
    },
    {
      "cell_type": "code",
      "metadata": {
        "id": "66ttlamJQjZH"
      },
      "source": [
        "# Do not change codes inside this cell\n",
        "\n",
        "def calc_search_score():\n",
        "    c = 0 \n",
        "    for k in range(len(X_img)):\n",
        "        x, y = searchTarget(np.copy(X_img[k]), np.copy(Y_img[k]))\n",
        "        c += M_img[k][x, y]\n",
        "    \n",
        "    return round(c/len(X_img), 2)"
      ],
      "execution_count": 13,
      "outputs": []
    },
    {
      "cell_type": "code",
      "metadata": {
        "id": "TigTrL78QjZP"
      },
      "source": [
        "def searchTarget(search_img, target_img):\n",
        "    '''    \n",
        "    Inputs:                      \n",
        "    + search_img - image in which you have to search for the target, size = (512, 512) ==> (dim1, dim2)\n",
        "    + target_img - target image, size = (55, 55)\n",
        "    \n",
        "    Ouputs:\n",
        "    + x - index along the first dimension ('dim1') of the search image where the target is present\n",
        "    + y - index along the second dimension ('dim2') of the search image where the target is present\n",
        "    \n",
        "    Allowed external package:\n",
        "    + You are free to use any OpenCV/numpy module except 'cv2.matchTemplate()'.\n",
        "    \n",
        "    Hint:\n",
        "    + Make sure you properly map the index with respect to input image size i.e. (512, 512). \n",
        "      Generally convolution/ correlation operation will reduce your output size by the size \n",
        "      of templated image.\n",
        "    + Correlation operation can be written in terms of convolution operator.\n",
        "    + Use OpenCV's cv2.matchTemplate() to know which method works best and implement corresponding\n",
        "      method using other openCV modules.\n",
        "    + This algorithm can be implemented using the functions you wrote/ used for other three tasks.\n",
        "    \n",
        "    '''\n",
        "    x, y = 0, 0\n",
        "    \n",
        "    #############################\n",
        "    # Start your code from here #\n",
        "    #############################\n",
        "\n",
        "    H, W = search_img.shape\n",
        "    h, w = target_img.shape\n",
        "    \n",
        "    # Median filtering for removing salt pepper noise\n",
        "    filter_search = cv2.medianBlur(search_img, 5)\n",
        "    filter_target = cv2.medianBlur(target_img, 3)\n",
        "\n",
        "    # Normalizing the images\n",
        "    norm_search = (filter_search - np.mean(filter_search)) / np.std(filter_search)\n",
        "    norm_target = (filter_target - np.mean(filter_target)) / np.std(filter_target)\n",
        "\n",
        "    # Applying NCC method\n",
        "    res = np.zeros((H - h + 1, W - w + 1), dtype=np.float32)\n",
        "\n",
        "    for i in range(H - h + 1):\n",
        "      for j in range(W - w + 1):\n",
        "        res[i,j] = np.sum(norm_search[i:i+h, j:j+w] * norm_target)\n",
        "\n",
        "    min_val, max_val, min_loc, max_loc = cv2.minMaxLoc(res)\n",
        "    top_left = max_loc\n",
        "\n",
        "    #bottom_right = (top_left[0] + h, top_left[1] + w)\n",
        "\n",
        "    #cv2.rectangle(filter_search,top_left, bottom_right, 255, 2)\n",
        "\n",
        "    #cv2_imshow(filter_target)\n",
        "    #cv2_imshow(filter_search)\n",
        "    \n",
        "    y = top_left[0] + w//2\n",
        "    x = top_left[1] + h//2\n",
        "    \n",
        "    #############################\n",
        "    # End your code here ########\n",
        "    ############################# \n",
        "    \n",
        "    return x, y"
      ],
      "execution_count": 14,
      "outputs": []
    },
    {
      "cell_type": "code",
      "metadata": {
        "id": "2iEVp1vwQjZW",
        "outputId": "1138bc76-952e-411b-bd59-9229a13186af",
        "colab": {
          "base_uri": "https://localhost:8080/"
        }
      },
      "source": [
        "# Do not change codes inside this cell\n",
        "score = calc_search_score()\n",
        "print(\"Your score:\", score)"
      ],
      "execution_count": 15,
      "outputs": [
        {
          "output_type": "stream",
          "text": [
            "Your score: 0.94\n"
          ],
          "name": "stdout"
        }
      ]
    },
    {
      "cell_type": "code",
      "metadata": {
        "id": "aRk5PZZwQjZg"
      },
      "source": [
        ""
      ],
      "execution_count": null,
      "outputs": []
    }
  ]
}