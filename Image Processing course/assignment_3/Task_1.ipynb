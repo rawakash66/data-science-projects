{
  "nbformat": 4,
  "nbformat_minor": 0,
  "metadata": {
    "kernelspec": {
      "display_name": "Python 3",
      "language": "python",
      "name": "python3"
    },
    "language_info": {
      "codemirror_mode": {
        "name": "ipython",
        "version": 3
      },
      "file_extension": ".py",
      "mimetype": "text/x-python",
      "name": "python",
      "nbconvert_exporter": "python",
      "pygments_lexer": "ipython3",
      "version": "3.7.6"
    },
    "colab": {
      "name": "Ass3_Task_1.ipynb",
      "provenance": [],
      "collapsed_sections": []
    }
  },
  "cells": [
    {
      "cell_type": "code",
      "metadata": {
        "id": "49Skp4DMRc9d"
      },
      "source": [
        "# Copyright 2020 IITK EE604A Image Processing. All Rights Reserved.\n",
        "# \n",
        "# Licensed under the MIT License. Use and/or modification of this code outside of EE604 must reference:\n",
        "#\n",
        "# © IITK EE604A Image Processing \n",
        "# https://github.com/ee604/ee604_assignments\n",
        "#\n",
        "# Author: Shashi Kant Gupta, Chiranjeev Prachand and Prof K. S. Venkatesh, Department of Electrical Engineering, IIT Kanpur"
      ],
      "execution_count": null,
      "outputs": []
    },
    {
      "cell_type": "markdown",
      "metadata": {
        "id": "iI5SfEjgRc9s"
      },
      "source": [
        "# Task 1: Frequency Domain Analysis - Resizing\n",
        "\n",
        "Remember, we already did this using operation in the spatial domain (interpolation methods)? Now let's do the same thing using frequency domain analysis."
      ]
    },
    {
      "cell_type": "code",
      "metadata": {
        "id": "9mwPMo1TRc9u",
        "colab": {
          "base_uri": "https://localhost:8080/"
        },
        "outputId": "59b1d9b1-1291-4c84-af84-992e079610db"
      },
      "source": [
        "%%bash\n",
        "pip install git+https://github.com/ee604/ee604_plugins"
      ],
      "execution_count": 1,
      "outputs": [
        {
          "output_type": "stream",
          "text": [
            "Collecting git+https://github.com/ee604/ee604_plugins\n",
            "  Cloning https://github.com/ee604/ee604_plugins to /tmp/pip-req-build-yfdjwtux\n",
            "Building wheels for collected packages: ee604-plugins\n",
            "  Building wheel for ee604-plugins (setup.py): started\n",
            "  Building wheel for ee604-plugins (setup.py): finished with status 'done'\n",
            "  Created wheel for ee604-plugins: filename=ee604_plugins-0.3.2-cp36-none-any.whl size=2311 sha256=6d45eb24cfcb99469fc9635125b250825f2c74eca08c12eabfa569a12cc0b640\n",
            "  Stored in directory: /tmp/pip-ephem-wheel-cache-l2ja4pev/wheels/34/a8/1d/ae3b7d209ecde89b4800a47ec55a61e7503bb9548bbb975806\n",
            "Successfully built ee604-plugins\n",
            "Installing collected packages: ee604-plugins\n",
            "Successfully installed ee604-plugins-0.3.2\n"
          ],
          "name": "stdout"
        },
        {
          "output_type": "stream",
          "text": [
            "  Running command git clone -q https://github.com/ee604/ee604_plugins /tmp/pip-req-build-yfdjwtux\n"
          ],
          "name": "stderr"
        }
      ]
    },
    {
      "cell_type": "code",
      "metadata": {
        "id": "DyNcILRPRc94",
        "colab": {
          "base_uri": "https://localhost:8080/"
        },
        "outputId": "fe51854e-e309-48fe-ff80-01d27c00dd79"
      },
      "source": [
        "# Importing required libraries\n",
        "\n",
        "import cv2\n",
        "import numpy as np\n",
        "import matplotlib.pyplot as plt\n",
        "\n",
        "from ee604_plugins import download_dataset, cv2_imshow\n",
        "\n",
        "download_dataset(assignment_no=3, task_no=1) # download data for this assignment"
      ],
      "execution_count": 2,
      "outputs": [
        {
          "output_type": "stream",
          "text": [
            "Download Complete!\n"
          ],
          "name": "stdout"
        }
      ]
    },
    {
      "cell_type": "code",
      "metadata": {
        "id": "Vop1075bRc-A"
      },
      "source": [
        "def resize_ft(img, k=1):\n",
        "    '''\n",
        "    Write a program to resize the given image by a factor 'k' using frequency domain analysis.\n",
        "    \n",
        "    Inputs:\n",
        "    + img - Original image\n",
        "    + k - resampling factor, therefore if input image size is 300x300 \n",
        "        - and k=0.5 ==> output image size = 150x150\n",
        "        - use int(k*input_image_size) to find the nearest integer\n",
        "    \n",
        "    Ouputs:\n",
        "    + out_img - numpy array (of dtype np.uint8) containing the output image.\n",
        "              - range should be between (0, 255) which may not be the case when u run the inverse DFT. \n",
        "              - Therefore, normalise the image by img = (img - min(img))/max(img) to rescale the values to (0, 255)\n",
        "    \n",
        "    Allowed external package:\n",
        "    + You are allowed to use any cv2.dft or cv2.idft module or any other suitable module in numpy and cv2 \n",
        "    + Just make sure you do not use any direct implementation.\n",
        "    \n",
        "    Hints:\n",
        "    + For upscaling - pad the frquency domain signal with zeros around the center of the image. \n",
        "    + For downscaling - crop the frequency domain signal at the centre of required size.\n",
        "    + PS - Make sure to use proper shift operation on output of cv2.dft so that your frequency domain signal \n",
        "         - assumes the centre of the image to be origin\n",
        "    \n",
        "    '''\n",
        "    \n",
        "    #############################\n",
        "    # Start your code from here #\n",
        "    #############################\n",
        "    \n",
        "    H, W = img.shape\n",
        "\n",
        "    dft_img = cv2.dft(np.float32(img), flags = cv2.DFT_COMPLEX_OUTPUT)\n",
        "    dft_shift_img = np.fft.fftshift(dft_img)\n",
        "\n",
        "    if k == 1.0:\n",
        "      out_img = np.copy(img).astype(np.uint8)\n",
        "    elif k < 1.0:\n",
        "      h_low, h_high = int((1-k) * H / 2), int((1+k) * H / 2)\n",
        "      w_low, w_high = int((1-k) * W / 2), int((1+k) * W / 2)\n",
        "      out_img = dft_shift_img[h_low:h_high, w_low:w_high]\n",
        "    else:\n",
        "      pad_width = int((k-1) * H / 2)\n",
        "      out_img = np.zeros((2*pad_width + H, 2*pad_width + W, 2))\n",
        "      out_img[:,:,0] = np.pad(dft_shift_img[:,:,0], pad_width = pad_width, mode='constant')\n",
        "      out_img[:,:,1] = np.pad(dft_shift_img[:,:,1], pad_width = pad_width, mode='constant')\n",
        "\n",
        "    out_img = np.fft.ifftshift(out_img)\n",
        "    out_img = cv2.idft(out_img)\n",
        "    out_img = cv2.magnitude(out_img[:,:,0], out_img[:,:,1])\n",
        "    out_img = cv2.normalize(out_img, None, alpha=0, beta=255, norm_type=cv2.NORM_MINMAX, dtype=cv2.CV_8U)\n",
        "    \n",
        "    #############################\n",
        "    # End your code here ########\n",
        "    #############################    \n",
        "    \n",
        "    return out_img"
      ],
      "execution_count": 3,
      "outputs": []
    },
    {
      "cell_type": "markdown",
      "metadata": {
        "id": "FtA2SN2MRc-I"
      },
      "source": [
        "### Observations"
      ]
    },
    {
      "cell_type": "code",
      "metadata": {
        "id": "qo1C6IP8Rc-J",
        "colab": {
          "base_uri": "https://localhost:8080/",
          "height": 1000
        },
        "outputId": "4b083576-05d5-4de1-e717-8811f249763e"
      },
      "source": [
        "# Do not change codes inside this cell\n",
        "# Add your observations in next cell\n",
        "# Your observation should compare the output for different values of k\n",
        "\n",
        "data = cv2.imread(\"data/parallel_lines.jpg\", 0)\n",
        "\n",
        "print(\"Original\")\n",
        "cv2_imshow(data)\n",
        "\n",
        "for k in [0.49, 0.5, 0.51, 1.96, 2, 2.04]:\n",
        "    tmp = resize_ft(data, k=k)\n",
        "    print(\" k = \" + str(k))\n",
        "    cv2_imshow(tmp)"
      ],
      "execution_count": 4,
      "outputs": [
        {
          "output_type": "stream",
          "text": [
            "Original\n"
          ],
          "name": "stdout"
        },
        {
          "output_type": "display_data",
          "data": {
            "image/png": "[encoded data removed]",
            "text/plain": [
              "<PIL.Image.Image image mode=L size=512x512 at 0x7FB1037AD128>"
            ]
          },
          "metadata": {
            "tags": []
          }
        },
        {
          "output_type": "stream",
          "text": [
            " k = 0.49\n"
          ],
          "name": "stdout"
        },
        {
          "output_type": "display_data",
          "data": {
            "image/png": "[encoded data removed]",
            "text/plain": [
              "<PIL.Image.Image image mode=L size=251x251 at 0x7FB1037AD240>"
            ]
          },
          "metadata": {
            "tags": []
          }
        },
        {
          "output_type": "stream",
          "text": [
            " k = 0.5\n"
          ],
          "name": "stdout"
        },
        {
          "output_type": "display_data",
          "data": {
            "image/png": "[encoded data removed]",
            "text/plain": [
              "<PIL.Image.Image image mode=L size=256x256 at 0x7FB10378F7B8>"
            ]
          },
          "metadata": {
            "tags": []
          }
        },
        {
          "output_type": "stream",
          "text": [
            " k = 0.51\n"
          ],
          "name": "stdout"
        },
        {
          "output_type": "display_data",
          "data": {
            "image/png": "[encoded data removed]",
            "text/plain": [
              "<PIL.Image.Image image mode=L size=261x261 at 0x7FB10378F7B8>"
            ]
          },
          "metadata": {
            "tags": []
          }
        },
        {
          "output_type": "stream",
          "text": [
            " k = 1.96\n"
          ],
          "name": "stdout"
        },
        {
          "output_type": "display_data",
          "data": {
            "image/png": "[encoded data removed]",
            "text/plain": [
              "<PIL.Image.Image image mode=L size=1002x1002 at 0x7FB10378F7B8>"
            ]
          },
          "metadata": {
            "tags": []
          }
        },
        {
          "output_type": "stream",
          "text": [
            " k = 2\n"
          ],
          "name": "stdout"
        },
        {
          "output_type": "display_data",
          "data": {
            "image/png": "[encoded data removed]",
            "text/plain": [
              "<PIL.Image.Image image mode=L size=1024x1024 at 0x7FB10378F7F0>"
            ]
          },
          "metadata": {
            "tags": []
          }
        },
        {
          "output_type": "stream",
          "text": [
            " k = 2.04\n"
          ],
          "name": "stdout"
        },
        {
          "output_type": "display_data",
          "data": {
            "image/png": "[encoded data removed]",
            "text/plain": [
              "<PIL.Image.Image image mode=L size=1044x1044 at 0x7FB10378F7F0>"
            ]
          },
          "metadata": {
            "tags": []
          }
        }
      ]
    },
    {
      "cell_type": "code",
      "metadata": {
        "id": "OgjrN9JFRc-R",
        "colab": {
          "base_uri": "https://localhost:8080/"
        },
        "outputId": "b8d8017a-6049-4300-9d0d-2ef787ca5392"
      },
      "source": [
        "your_observation = \"\"\"\n",
        "From the images we can infer that:\n",
        "1. For undersampling as we sample less than the half of the spectrum we start loosing information about the spectrum due to aliasing.\n",
        "\n",
        "2. Fourier domain sampling provides better results than spatial operations.\n",
        "\"\"\"\n",
        "\n",
        "print(your_observation)"
      ],
      "execution_count": 5,
      "outputs": [
        {
          "output_type": "stream",
          "text": [
            "\n",
            "From the images we can infer that:\n",
            "1. For undersampling as we sample less than the half of the spectrum we start loosing information about the spectrum due to aliasing.\n",
            "\n",
            "2. Fourier domain sampling provides better results than spatial operations.\n",
            "\n"
          ],
          "name": "stdout"
        }
      ]
    },
    {
      "cell_type": "code",
      "metadata": {
        "id": "4xOhSvf8Rc-a"
      },
      "source": [
        "# Submission >>>>>>>>>>>>>>>>>>>>>\n",
        "# Do not change codes inside this cell.\n",
        "\n",
        "gen_imgs = []\n",
        "data = cv2.imread(\"data/parallel_lines.jpg\", 0)\n",
        "\n",
        "for k in [0.49, 0.5, 0.51, 1.96, 2, 2.04]:\n",
        "    tmp = resize_ft(data, k=k)\n",
        "    gen_imgs.append(tmp)\n",
        "\n",
        "task1_submission = np.array(gen_imgs)"
      ],
      "execution_count": 6,
      "outputs": []
    },
    {
      "cell_type": "code",
      "metadata": {
        "id": "Zy9j7TAERc-k"
      },
      "source": [
        ""
      ],
      "execution_count": null,
      "outputs": []
    }
  ]
}