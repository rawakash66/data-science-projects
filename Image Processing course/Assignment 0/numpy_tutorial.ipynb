{
 "cells": [
  {
   "cell_type": "code",
   "execution_count": null,
   "metadata": {},
   "outputs": [],
   "source": [
    "# Copyright 2020 IITK EE604A Image Processing. All Rights Reserved.\n",
    "# \n",
    "# Licensed under the MIT License. Use and/or modification of this code outside of EE604 must reference:\n",
    "#\n",
    "# © IITK EE604A Image Processing \n",
    "# https://github.com/ee604/ee604_assignments\n",
    "#\n",
    "# Author: Shashi Kant Gupta and Prof K. S. Venkatesh, Department of Electrical Engineering, IIT Kanpur"
   ]
  },
  {
   "cell_type": "markdown",
   "metadata": {},
   "source": [
    "## NumPy and Matplotlib Tutorial\n",
    "\n",
    "SciPy contains a collection of python packages for mathematics, science and egineering. We will be covering some of the basics of some of the important packages inside SciPy: NumPy and Matplotlib"
   ]
  },
  {
   "cell_type": "markdown",
   "metadata": {},
   "source": [
    "### NumPy\n",
    "\n",
    "NumPy library basically contains multidimensional arrays and matrix data structures and various methods to perform mathematical operations on them."
   ]
  },
  {
   "cell_type": "markdown",
   "metadata": {},
   "source": [
    "#### Basics"
   ]
  },
  {
   "cell_type": "code",
   "execution_count": null,
   "metadata": {},
   "outputs": [],
   "source": [
    "# This is how you import libraries in Python\n",
    "# We imported numpy and named it as np for convenience. Its not necessary to use np\n",
    "\n",
    "import numpy as np"
   ]
  },
  {
   "cell_type": "code",
   "execution_count": null,
   "metadata": {},
   "outputs": [],
   "source": [
    "# creating numpy arrays\n",
    "x = np.array([3, 1, 5])\n",
    "print(\"Array x\", x) \n",
    "print(\"Shape\", x.shape) # prints the shape of array x\n",
    "print(\"Index\", x[1]) # call the value at index 1\n",
    "print(\"Slice\", x[:2]) # Slicing is similar to python lists\n",
    "\n",
    "# 2 dimensional array\n",
    "y = np.array([[1, 2],[3, 4]])\n",
    "\n",
    "print(\"---\")\n",
    "print(\"Shape\", y.shape)\n",
    "print(\"Array\")\n",
    "print(y)"
   ]
  },
  {
   "cell_type": "code",
   "execution_count": null,
   "metadata": {},
   "outputs": [],
   "source": [
    "x = np.random.random((2,2)) #random 2x2 array\n",
    "print(x.shape)\n",
    "print(x)\n",
    "print(x[1,1])"
   ]
  },
  {
   "cell_type": "code",
   "execution_count": null,
   "metadata": {},
   "outputs": [],
   "source": [
    "x = np.arange(16) #linear array with values ranging from 0 to 15\n",
    "print(\"Shape\", x.shape)\n",
    "print(x)\n",
    "\n",
    "print(\"---\")\n",
    "\n",
    "x = x.reshape((4,4)) #reshaping\n",
    "print(\"Shape\", x.shape)\n",
    "print(x)"
   ]
  },
  {
   "cell_type": "code",
   "execution_count": null,
   "metadata": {},
   "outputs": [],
   "source": [
    "# slicing and indexing\n",
    "y = x[:2, 1:]\n",
    "print(y)\n",
    "\n",
    "print(\"---\\nShape:\")\n",
    "print(y.shape)\n",
    "print(y.shape[0], y.shape[1])"
   ]
  },
  {
   "cell_type": "code",
   "execution_count": null,
   "metadata": {},
   "outputs": [],
   "source": [
    "# boolean indexing. very very usefull\n",
    "\n",
    "x = np.arange(8)\n",
    "print(x)\n",
    "print(x>5)\n",
    "print(x[x>5])"
   ]
  },
  {
   "cell_type": "markdown",
   "metadata": {},
   "source": [
    "#### Array operations"
   ]
  },
  {
   "cell_type": "code",
   "execution_count": null,
   "metadata": {},
   "outputs": [],
   "source": [
    "x = np.array([[1, 2],[3, 4]])\n",
    "y = np.ones((2, 2)) #arrays of ones of size 2 x 2\n",
    "z = np.zeros((2, 2)) #arrays of zeros of size 2 x 2\n",
    "\n",
    "print(\"x\\n\", x)\n",
    "print(\"---\\ny\\n\", y)\n",
    "print(\"---\\nz\\n\", z)"
   ]
  },
  {
   "cell_type": "code",
   "execution_count": null,
   "metadata": {},
   "outputs": [],
   "source": [
    "# Addition\n",
    "print(\"x + y\\n\", x + y)\n",
    "print(\"---\")\n",
    "print(\"x + z\\n\", x + z)"
   ]
  },
  {
   "cell_type": "code",
   "execution_count": null,
   "metadata": {},
   "outputs": [],
   "source": [
    "# Multiplication\n",
    "print(\"x * y\\n\", x * y)\n",
    "print(\"---\")\n",
    "print(\"x * z\\n\", x * z)"
   ]
  },
  {
   "cell_type": "code",
   "execution_count": null,
   "metadata": {},
   "outputs": [],
   "source": [
    "# Matrix operations\n",
    "\n",
    "print(\"Transpose\\n\", x.T)\n",
    "print(\"---\")\n",
    "print(\"Dot product\\n\", np.dot(x, y))\n",
    "print(\"---\")\n",
    "print(\"Inverse\\n\", np.linalg.inv(x))"
   ]
  },
  {
   "cell_type": "markdown",
   "metadata": {},
   "source": [
    "#### Broadcasting"
   ]
  },
  {
   "cell_type": "code",
   "execution_count": null,
   "metadata": {},
   "outputs": [],
   "source": [
    "# Broadcasting \n",
    "\n",
    "x = np.asarray([1, 4, 9, 16])\n",
    "\n",
    "## Adding 1 to each element of x\n",
    "\n",
    "# Usual way\n",
    "y = np.ones(4)\n",
    "print(x+y)\n",
    "\n",
    "# broadcasting\n",
    "print(x+1.0)"
   ]
  },
  {
   "cell_type": "code",
   "execution_count": null,
   "metadata": {},
   "outputs": [],
   "source": [
    "x = np.asarray([[1, 2], [3, 4]])\n",
    "print(x)"
   ]
  },
  {
   "cell_type": "code",
   "execution_count": null,
   "metadata": {},
   "outputs": [],
   "source": [
    "y = np.asarray([[2, 2], [2, 2]])\n",
    "print(x*y) #multiply 2 to all elements of x"
   ]
  },
  {
   "cell_type": "code",
   "execution_count": null,
   "metadata": {},
   "outputs": [],
   "source": [
    "z = np.asarray([[2], [2]])\n",
    "print(x*y) #this is same"
   ]
  },
  {
   "cell_type": "code",
   "execution_count": null,
   "metadata": {},
   "outputs": [],
   "source": [
    "z = 2\n",
    "print(x*y) #even this is same"
   ]
  },
  {
   "cell_type": "code",
   "execution_count": null,
   "metadata": {},
   "outputs": [],
   "source": [
    "x = np.asarray([[1, 2], [3, 4]])\n",
    "y = np.asarray([[2], [2]])\n",
    "\n",
    "print(x)\n",
    "print(y)"
   ]
  },
  {
   "cell_type": "code",
   "execution_count": null,
   "metadata": {},
   "outputs": [],
   "source": [
    "print(x*y) #mulptiplication"
   ]
  },
  {
   "cell_type": "code",
   "execution_count": null,
   "metadata": {},
   "outputs": [],
   "source": [
    "print(np.dot(x, y)) #dot product"
   ]
  },
  {
   "cell_type": "code",
   "execution_count": null,
   "metadata": {},
   "outputs": [],
   "source": [
    "print(y.shape)\n",
    "print(y.T.shape) # transpose"
   ]
  },
  {
   "cell_type": "markdown",
   "metadata": {},
   "source": [
    "**Important**\n",
    "\n",
    "Must go through this: https://numpy.org/devdocs/user/absolute_beginners.html\n",
    "\n",
    "---"
   ]
  },
  {
   "cell_type": "markdown",
   "metadata": {},
   "source": [
    "### Matplotlib\n",
    "\n",
    "Matplotlib is commonly used library for visualization in Python."
   ]
  },
  {
   "cell_type": "code",
   "execution_count": null,
   "metadata": {},
   "outputs": [],
   "source": [
    "import matplotlib.pyplot as plt # creating a shorthand name for the imported library"
   ]
  },
  {
   "cell_type": "code",
   "execution_count": null,
   "metadata": {},
   "outputs": [],
   "source": [
    "# Simple 2D plot\n",
    "\n",
    "x = np.arange(0, 6 * np.pi, 0.2) # create a linear sequence: 0, 0.2, 0.4, ...., 18.8\n",
    "ys = np.sin(x) # sin of x\n",
    "yc = np.cos(x) # cos of x\n",
    "\n",
    "# Plotting\n",
    "# plt.plot(xvalues, yvalues, label=\"legend_name\")\n",
    "plt.plot(x, ys, c=\"black\", label=\"sin(x)\") # plot ys - sin(x) vs x\n",
    "plt.plot(x, yc, c=\"red\", label=\"cos(x)\") # plot yc - cos(x) vs x\n",
    "\n",
    "# Naming x and y axis\n",
    "plt.xlabel('x axis')\n",
    "plt.ylabel('y axis')\n",
    "\n",
    "plt.title('sin(x) and cos(x) curve') # Plot title\n",
    "plt.legend() # Show legends\n",
    "plt.grid() # Show grids\n",
    "\n",
    "plt.show() # Display the generated plot"
   ]
  },
  {
   "cell_type": "markdown",
   "metadata": {},
   "source": [
    "**Go through this:** https://matplotlib.org/tutorials/introductory/pyplot.html#sphx-glr-tutorials-introductory-pyplot-py\n",
    "\n",
    "**More examples:** https://matplotlib.org/tutorials/introductory/sample_plots.html#sphx-glr-tutorials-introductory-sample-plots-py"
   ]
  }
 ],
 "metadata": {
  "kernelspec": {
   "display_name": "Python 3",
   "language": "python",
   "name": "python3"
  },
  "language_info": {
   "codemirror_mode": {
    "name": "ipython",
    "version": 3
   },
   "file_extension": ".py",
   "mimetype": "text/x-python",
   "name": "python",
   "nbconvert_exporter": "python",
   "pygments_lexer": "ipython3",
   "version": "3.7.6"
  }
 },
 "nbformat": 4,
 "nbformat_minor": 2
}
