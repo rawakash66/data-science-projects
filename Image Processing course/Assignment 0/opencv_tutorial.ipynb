{
 "cells": [
  {
   "cell_type": "code",
   "execution_count": null,
   "metadata": {},
   "outputs": [],
   "source": [
    "# Copyright 2020 IITK EE604A Image Processing. All Rights Reserved.\n",
    "# \n",
    "# Licensed under the MIT License. Use and/or modification of this code outside of EE604 must reference:\n",
    "#\n",
    "# © IITK EE604A Image Processing \n",
    "# https://github.com/ee604/ee604_assignments\n",
    "#\n",
    "# Author: Shashi Kant Gupta and Prof K. S. Venkatesh, Department of Electrical Engineering, IIT Kanpur"
   ]
  },
  {
   "cell_type": "markdown",
   "metadata": {},
   "source": [
    "## Prepare environment"
   ]
  },
  {
   "cell_type": "code",
   "execution_count": null,
   "metadata": {},
   "outputs": [],
   "source": [
    "%%bash\n",
    "pip install git+https://github.com/ee604/ee604_plugins\n",
    "pip install scikit-video"
   ]
  },
  {
   "cell_type": "code",
   "execution_count": null,
   "metadata": {},
   "outputs": [],
   "source": [
    "from ee604_plugins import download_dataset\n",
    "\n",
    "download_dataset(assignment_no=0, task_no=3)"
   ]
  },
  {
   "cell_type": "markdown",
   "metadata": {},
   "source": [
    "## Getting started with OpenCV\n",
    "\n",
    "OpenCV is a widely used computer vision package used for image processing and conputer vision applications."
   ]
  },
  {
   "cell_type": "markdown",
   "metadata": {},
   "source": [
    "### Images as numpy array"
   ]
  },
  {
   "cell_type": "code",
   "execution_count": null,
   "metadata": {},
   "outputs": [],
   "source": [
    "import numpy as np # import numpy package\n",
    "import cv2 # import opencv package\n",
    "import matplotlib.pyplot as plt # we will use this to display images"
   ]
  },
  {
   "cell_type": "code",
   "execution_count": null,
   "metadata": {},
   "outputs": [],
   "source": [
    "img_orig = cv2.imread(\"data/lena_color.jpg\") # this is how you load an image in openCV\n",
    "\n",
    "# You will note here that the size is (512, 512, 3). This means image width and height are 512. \n",
    "# And 3 corresponds to color channels. Therefore it's color image. \n",
    "# Note: OpenCV loads images in 'BGR' format. i.e. \n",
    "# img[:, :, 0] -- corresponds to blue parts of the image\n",
    "# img[:, :, 1] -- corresponds to green parts of the image\n",
    "# img[:, :, 2] -- corresponds to red parts of the image\n",
    "print(img_orig.shape) # print the image size"
   ]
  },
  {
   "cell_type": "code",
   "execution_count": null,
   "metadata": {},
   "outputs": [],
   "source": [
    "# displaying images: use plt.imshow(img)\n",
    "# but before we display images using \"plt.imshow()\" \n",
    "# we will conver BGR to RGB.\n",
    "\n",
    "img = img_orig[:, :, [2, 1, 0]] # change to rgb \n",
    "# alternate: \n",
    "# img = cv2.cvtColor(img_orig, cv2.COLOR_BGR2RGB)\n",
    "\n",
    "plt.imshow(img)\n",
    "plt.axis(\"off\") # disable axis\n",
    "plt.show()"
   ]
  },
  {
   "cell_type": "code",
   "execution_count": null,
   "metadata": {},
   "outputs": [],
   "source": [
    "img = cv2.imread(\"data/lena_color.jpg\", 0) # loads a greyscale version of the image\n",
    "print(img.shape) # no color channel\n",
    "\n",
    "plt.imshow(img, cmap='gray') # you need to inform pyplot that you want a grayscaled image\n",
    "plt.axis(\"off\")\n",
    "plt.show()"
   ]
  },
  {
   "cell_type": "code",
   "execution_count": null,
   "metadata": {},
   "outputs": [],
   "source": [
    "# Normally if you do not mention cmap=\"gray\". plt.imshow()\n",
    "# will display a thermal plot for intensity values. see the example below\n",
    "\n",
    "plt.imshow(img)\n",
    "plt.axis(\"off\")\n",
    "plt.colorbar() # display the colorbar\n",
    "plt.show()"
   ]
  },
  {
   "cell_type": "code",
   "execution_count": null,
   "metadata": {},
   "outputs": [],
   "source": [
    "# Another example of thermal plot\n",
    "\n",
    "plt.imshow(img, cmap=\"plasma\")\n",
    "plt.axis(\"off\")\n",
    "plt.colorbar() # display the colorbar\n",
    "plt.show()"
   ]
  },
  {
   "cell_type": "code",
   "execution_count": null,
   "metadata": {},
   "outputs": [],
   "source": [
    "# Alternatively you can use cv2.imshow() to display images if only if you aren't using jupyter notebooks\n",
    "# If you are on google colab you can use following patch \n",
    "# We will stick to using pyplot at most of the places as it can be used independent of platform your are using.\n",
    "\n",
    "from google.colab.patches import cv2_imshow\n",
    "print(\"GreyScaled\")\n",
    "cv2_imshow(img)\n",
    "\n",
    "print(\"Colored\")\n",
    "cv2_imshow(img_orig) # No need to convert to RGB"
   ]
  },
  {
   "cell_type": "code",
   "execution_count": null,
   "metadata": {},
   "outputs": [],
   "source": [
    "# With pyplot you can even create image grids!!\n",
    "# We will create an example of 3 x 3 grid.\n",
    "\n",
    "# Load images\n",
    "img_orig = cv2.imread(\"data/lena_color.jpg\")\n",
    "\n",
    "img_rgb = cv2.cvtColor(img_orig, cv2.COLOR_BGR2RGB) # convert to rgb\n",
    "img_gray = cv2.cvtColor(img_orig, cv2.COLOR_BGR2GRAY) # convert to greyscale\n",
    "\n",
    "img_blue_channel = img_orig[:, :, 0] # blue channel\n",
    "img_green_channel = img_orig[:, :, 1] # green channel\n",
    "img_red_channel = img_orig[:, :, 2] # red channel\n",
    "\n",
    "img_blue, img_green, img_red = np.copy(img_rgb), np.copy(img_rgb), np.copy(img_rgb)\n",
    "img_blue[:, :, [0, 1]] = 0 # set values of rest of the channel to be zero so that we see color corresponding to single channel\n",
    "img_green[:, :, [0, 2]] = 0 # set values of rest of the channel to be zero so that we see color corresponding to single channel\n",
    "img_red[:, :, [1, 2]] = 0 # set values of rest of the channel to be zero so that we see color corresponding to single channel\n",
    "\n",
    "plt.figure(figsize=(12, 12)) #Initiate figure\n",
    "\n",
    "plt.subplot(3, 3, 1) #3, 3 --> 3 x 3 grid | 1 --> first cell\n",
    "plt.imshow(img_rgb)\n",
    "plt.axis(\"off\")\n",
    "plt.title(\"RGB\")\n",
    "\n",
    "plt.subplot(3, 3, 2)\n",
    "plt.imshow(img_gray, cmap=\"gray\")\n",
    "plt.axis(\"off\")\n",
    "plt.title(\"Grayscale\")\n",
    "\n",
    "plt.subplot(3, 3, 3)\n",
    "plt.imshow(img_gray, cmap=\"plasma\")\n",
    "plt.axis(\"off\")\n",
    "plt.title(\"Thermal\")\n",
    "\n",
    "plt.subplot(3, 3, 4)\n",
    "plt.imshow(img_red)\n",
    "plt.axis(\"off\")\n",
    "plt.title(\"Red part\")\n",
    "\n",
    "plt.subplot(3, 3, 5)\n",
    "plt.imshow(img_green)\n",
    "plt.axis(\"off\")\n",
    "plt.title(\"Green part\")\n",
    "\n",
    "plt.subplot(3, 3, 6)\n",
    "plt.imshow(img_blue)\n",
    "plt.axis(\"off\")\n",
    "plt.title(\"Blue part\")\n",
    "\n",
    "plt.subplot(3, 3, 7)\n",
    "plt.imshow(img_red_channel, cmap=\"gray\")\n",
    "plt.axis(\"off\")\n",
    "plt.title(\"Red channel as grayscale\")\n",
    "\n",
    "plt.subplot(3, 3, 8)\n",
    "plt.imshow(img_green_channel, cmap=\"gray\")\n",
    "plt.axis(\"off\")\n",
    "plt.title(\"Green channel as grayscale\")\n",
    "\n",
    "plt.subplot(3, 3, 9)\n",
    "plt.imshow(img_blue_channel, cmap=\"gray\")\n",
    "plt.axis(\"off\")\n",
    "plt.title(\"Blue channel as grayscale\")\n",
    "\n",
    "# uncomment below line to save the image grid\n",
    "# plt.savefig(\"img_grid.png\", dpi=150) \n",
    "\n",
    "plt.show()\n",
    "\n",
    "# PS: This code can be easily simplified using function or loop. \n",
    "# We intentially didn't used them for better understanding."
   ]
  },
  {
   "cell_type": "code",
   "execution_count": null,
   "metadata": {},
   "outputs": [],
   "source": [
    "# Saving images. \n",
    "\n",
    "cv2.imwrite(\"lena_gray.jpg\", img_gray)\n",
    "\n",
    "# PS: To save the image grid generated using pyplot. Use this\n",
    "# plt.savefig(\"filename.png\", dpi=150) # dpi is dots per inch higher dpi ==> better resolution\n",
    "# supported formats for plt.savefig() ==> eps, pdf, pgf, png, ps, raw, rgba, svg, svgz"
   ]
  },
  {
   "cell_type": "markdown",
   "metadata": {},
   "source": [
    "---\n",
    "### Loading images from video\n",
    "\n",
    "Recall that videos are nothing more than a sequence of images. You can easily extract those image sequences using openCV `cv2.VideoCapture()` module. "
   ]
  },
  {
   "cell_type": "code",
   "execution_count": null,
   "metadata": {},
   "outputs": [],
   "source": [
    "# Loading video file\n",
    "cap = cv2.VideoCapture(\"data/bunny_video.mp4\")\n",
    "\n",
    "if not cap.isOpened(): # check if video file is opened\n",
    "    cap.open()\n",
    "\n",
    "video_frames = [] # we will save frames into this python list\n",
    "\n",
    "while True:\n",
    "    # Capture frame-by-frame, everytime you call cap.read() it will return you \n",
    "    # next frame in sequence, ret -> 'True' if cap.read() succesfully returns an image frame.\n",
    "    ret, frame = cap.read()\n",
    "    \n",
    "    if ret:\n",
    "        video_frames.append(frame)\n",
    "    else:\n",
    "        break\n",
    "    \n",
    "cap.release() # to close the video file\n",
    "\n",
    "# Note 1: You can use cv2.VideoCapture(0) to capture videos from webcam\n",
    "# Note 2: cv2.VideoCapture(0) won't work on Google Colab"
   ]
  },
  {
   "cell_type": "code",
   "execution_count": null,
   "metadata": {},
   "outputs": [],
   "source": [
    "print(\"Number of frames used in the video:\", len(video_frames))\n",
    "print(\"Frames per second:\", int(len(video_frames)/29)) # video length is 29 sec"
   ]
  },
  {
   "cell_type": "code",
   "execution_count": null,
   "metadata": {},
   "outputs": [],
   "source": [
    "# Lets plot video frames recorded at [0, 1, 2, ...., 15] sec.\n",
    "\n",
    "fps = int(len(video_frames)/29)\n",
    "\n",
    "def plot_frame(subplot_id, img, name):\n",
    "    plt.subplot(4, 4, 1 + int(subplot_id))\n",
    "    plt.imshow(img[:, :, [2, 1, 0]])\n",
    "    plt.axis(\"off\")\n",
    "    plt.title(name)\n",
    "    \n",
    "plt.figure(figsize=(16, 11))\n",
    "for i in range(16):\n",
    "    plot_frame(i, video_frames[i*fps], \"t = \" + str(i) + \" secs\")\n",
    "    \n",
    "plt.show()"
   ]
  },
  {
   "cell_type": "markdown",
   "metadata": {},
   "source": [
    "### Saving a video\n",
    "\n",
    "We can also create a video file using multiple images. Lets convert our \"bunny_video\" from colored video to a grayscale and save it as `bunny_gray.mp4`. OpenCV has its own supports for this using `cv2.VideoWrite()` but we will use `skvideo.io.FFmpegWriter` "
   ]
  },
  {
   "cell_type": "code",
   "execution_count": null,
   "metadata": {},
   "outputs": [],
   "source": [
    "from skvideo.io import FFmpegWriter as VideoWriter\n",
    "\n",
    "# create VideoWriter\n",
    "out = VideoWriter('bunny_gray.mp4', inputdict={'-r': str(fps)}, outputdict={'-r': str(fps)})\n",
    "\n",
    "for frame in video_frames:\n",
    "    new_frame = cv2.cvtColor(frame, cv2.COLOR_BGR2GRAY)\n",
    "    out.writeFrame(new_frame) # write frames to video file\n",
    "    \n",
    "out.close() # close when done"
   ]
  },
  {
   "cell_type": "code",
   "execution_count": null,
   "metadata": {},
   "outputs": [],
   "source": [
    "# Lets create a fast forward video\n",
    "from skvideo.io import FFmpegWriter as VideoWriter\n",
    "\n",
    "# create VideoWriter\n",
    "out = VideoWriter('bunny_ff.mp4', inputdict={'-r': str(100)}, outputdict={'-r': str(fps)})\n",
    "\n",
    "for frame in video_frames:\n",
    "    out.writeFrame(frame[:, :, [2, 1, 0]]) # write frames to video file\n",
    "    \n",
    "out.close() # close when done"
   ]
  },
  {
   "cell_type": "markdown",
   "metadata": {},
   "source": [
    "---\n",
    "### Playing video files in google colab\n",
    "\n",
    "We will use this package: `https://github.com/shashikg/google_colab_plugins` to play video files in colab."
   ]
  },
  {
   "cell_type": "code",
   "execution_count": null,
   "metadata": {},
   "outputs": [],
   "source": [
    "%%bash\n",
    "pip install git+https://github.com/shashikg/google_colab_plugins"
   ]
  },
  {
   "cell_type": "code",
   "execution_count": null,
   "metadata": {},
   "outputs": [],
   "source": [
    "from google_colab_plugins import playVideo\n",
    "\n",
    "print(\"Original\")\n",
    "playVideo(filename=\"data/bunny_video.mp4\", width=640, height=360) \n",
    "\n",
    "print(\"Grayscale\")\n",
    "playVideo(filename=\"bunny_gray.mp4\", width=640, height=360) \n",
    "\n",
    "print(\"Fast forward\")\n",
    "playVideo(filename=\"bunny_ff.mp4\", width=640, height=360) "
   ]
  },
  {
   "cell_type": "markdown",
   "metadata": {},
   "source": [
    "---\n",
    "### Capturing images from webcam in google colab\n",
    "\n",
    "You can use `https://github.com/shashikg/google_colab_plugins` package to capture image frames from webcam in colab."
   ]
  },
  {
   "cell_type": "code",
   "execution_count": null,
   "metadata": {},
   "outputs": [],
   "source": [
    "import numpy as np\n",
    "from google.colab.patches import cv2_imshow\n",
    "from google_colab_plugins import cameraCapture\n",
    "\n",
    "cap = cameraCapture() # start cameraCapture module\n",
    "\n",
    "frame = cap.read() # take snapshot\n",
    "cv2_imshow(frame) # show image\n",
    "\n",
    "cap.release() # close cameraCapture module"
   ]
  },
  {
   "cell_type": "markdown",
   "metadata": {},
   "source": [
    "---\n",
    "**Reference:** https://opencv-python-tutroals.readthedocs.io/"
   ]
  }
 ],
 "metadata": {
  "kernelspec": {
   "display_name": "Python 3",
   "language": "python",
   "name": "python3"
  },
  "language_info": {
   "codemirror_mode": {
    "name": "ipython",
    "version": 3
   },
   "file_extension": ".py",
   "mimetype": "text/x-python",
   "name": "python",
   "nbconvert_exporter": "python",
   "pygments_lexer": "ipython3",
   "version": "3.7.6"
  }
 },
 "nbformat": 4,
 "nbformat_minor": 2
}
