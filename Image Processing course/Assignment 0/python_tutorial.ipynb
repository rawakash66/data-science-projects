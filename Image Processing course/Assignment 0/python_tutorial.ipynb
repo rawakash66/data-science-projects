{
 "cells": [
  {
   "cell_type": "code",
   "execution_count": null,
   "metadata": {},
   "outputs": [],
   "source": [
    "# Copyright 2020 IITK EE604A Image Processing. All Rights Reserved.\n",
    "# \n",
    "# Licensed under the MIT License. Use and/or modification of this code outside of EE604 must reference:\n",
    "#\n",
    "# © IITK EE604A Image Processing \n",
    "# https://github.com/ee604/ee604_assignments\n",
    "#\n",
    "# Author: Shashi Kant Gupta and Prof K. S. Venkatesh, Department of Electrical Engineering, IIT Kanpur"
   ]
  },
  {
   "cell_type": "markdown",
   "metadata": {},
   "source": [
    "## Getting started with Python\n",
    "\n",
    "This tutorial assumes that you have basic familiarity with computer programming.\n",
    "\n",
    "**Target audience:** Those who are not familiar with Python. Note that our aim is not to make you an expert of python but to ensure that you know how to use python for **EE604 Assignments**"
   ]
  },
  {
   "cell_type": "markdown",
   "metadata": {},
   "source": [
    "---\n",
    "### Hello world example"
   ]
  },
  {
   "cell_type": "code",
   "execution_count": null,
   "metadata": {},
   "outputs": [],
   "source": [
    "# This is a comment\n",
    "print(\"Hello World\")  #basic print command"
   ]
  },
  {
   "cell_type": "code",
   "execution_count": null,
   "metadata": {},
   "outputs": [],
   "source": [
    "# This is how you combine multiple print statements\n",
    "# as usual \"\\n\" is newline character in python\n",
    "\n",
    "print(\"a =\", 1, \"and b =\", 2, \"\\nTherefore, a + b =\", 1 + 2)"
   ]
  },
  {
   "cell_type": "markdown",
   "metadata": {},
   "source": [
    "---\n",
    "### Variables and basic data types\n",
    "\n",
    "Similar to any other programming languages, Python also have similar basic data types such as integers, float, strings, etc. Unlike in C/ C++, you do not need any additional code/lines for declaration of variables or their variable type, you can straight away start using. Examples given below will clear it for you. "
   ]
  },
  {
   "cell_type": "markdown",
   "metadata": {},
   "source": [
    "#### Numbers"
   ]
  },
  {
   "cell_type": "code",
   "execution_count": null,
   "metadata": {},
   "outputs": [],
   "source": [
    "# Integers\n",
    "\n",
    "x = 2 # This will create a new integer variable 'x' with its value as 2\n",
    "print(type(x)) # type(x) command is used to retrieve the variable type\n",
    "print(\"x is:\", x, \"and x + 1 is:\", x+1) # multiple print statements and addition of two integers\n",
    "print(\"x*3 is:\", x*3, \"and x^3 is:\", x**3) # multiplication and power of\n",
    "\n",
    "x += 1 # Increment statement; this is same as x = x + 1\n",
    "print(x) \n",
    "\n",
    "x += 10 # Increment by 10; this is same as x = x + 10\n",
    "print(x)"
   ]
  },
  {
   "cell_type": "code",
   "execution_count": null,
   "metadata": {},
   "outputs": [],
   "source": [
    "# Floats\n",
    "\n",
    "x = 2.0 # This how you create a new float variable, i.e. you simply add a decimal point\n",
    "print(type(x))\n",
    "print(\"x is:\",x,\"and x + 1 is:\", x+1)\n",
    "print(\"x*3 is:\",x*3, \"and x^3 is:\", x**3)\n",
    "\n",
    "x += 1\n",
    "print(x)"
   ]
  },
  {
   "cell_type": "code",
   "execution_count": null,
   "metadata": {},
   "outputs": [],
   "source": [
    "# Type Conversion\n",
    "\n",
    "x = 2\n",
    "print(x, type(x))\n",
    "\n",
    "# Convert to float\n",
    "x = float(x)\n",
    "print(x, type(x))\n",
    "\n",
    "# Convert to int\n",
    "x = int(x)\n",
    "print(x, type(x))\n",
    "\n",
    "# An another way to convert int to float\n",
    "x += 0.0\n",
    "print(x, type(x), \" - Whenever you add any floating value to an integer variable python auto convert its type\")"
   ]
  },
  {
   "cell_type": "markdown",
   "metadata": {},
   "source": [
    "#### Strings"
   ]
  },
  {
   "cell_type": "code",
   "execution_count": null,
   "metadata": {},
   "outputs": [],
   "source": [
    "x = \"EE604 IITK\"\n",
    "print(type(x))\n",
    "print(x)\n",
    "print(len(x), \" - This is the length of your string, i.e. number of characters\")\n",
    "\n",
    "y = \" taught by Prof. K. S. Venkatesh\"\n",
    "z = x + y # This is how you concatenate two strings\n",
    "print(z)"
   ]
  },
  {
   "cell_type": "markdown",
   "metadata": {},
   "source": [
    "#### Booleans"
   ]
  },
  {
   "cell_type": "code",
   "execution_count": null,
   "metadata": {},
   "outputs": [],
   "source": [
    "x = True\n",
    "y = False\n",
    "\n",
    "print(type(x))\n",
    "print(x and y) # Simple AND operator in python\n",
    "print(x or y) # Simple OR operator in python\n",
    "print(not x) # Simple NOT operator in python\n",
    "print(not y)"
   ]
  },
  {
   "cell_type": "markdown",
   "metadata": {},
   "source": [
    "**Know more:** \n",
    "* https://www.programiz.com/python-programming/numbers\n",
    "* https://www.programiz.com/python-programming/string"
   ]
  },
  {
   "cell_type": "markdown",
   "metadata": {},
   "source": [
    "---\n",
    "### Lists"
   ]
  },
  {
   "cell_type": "markdown",
   "metadata": {},
   "source": [
    "#### Lists \n",
    "Lists are container which can contain several elements or values in one variable name. It's quite similar to arrays in C/ C++ but with some additional features."
   ]
  },
  {
   "cell_type": "markdown",
   "metadata": {},
   "source": [
    "##### Creating lists in Python"
   ]
  },
  {
   "cell_type": "code",
   "execution_count": null,
   "metadata": {},
   "outputs": [],
   "source": [
    "x = [5, 1, 8] # Creating a list of 3 elements\n",
    "print(x, \" - creating list\")\n",
    "\n",
    "# Calling individual element\n",
    "print(\"1st element:\", x[0], \", 3rd element:\", x[2], \", 1st last element:\", x[-1], \"and 2nd last element:\", x[-2])\n",
    "\n",
    "# change individual element value\n",
    "x[1] = 2\n",
    "print(\"Change Value:\", x)\n",
    "\n",
    "# Add a new element to the end\n",
    "x.append(4)\n",
    "print(\"New element:\", x)\n",
    "\n",
    "# Removing any element at specified index\n",
    "print(\"Removed element:\", x.pop(3), \"| Left out list:\", x)"
   ]
  },
  {
   "cell_type": "code",
   "execution_count": null,
   "metadata": {},
   "outputs": [],
   "source": [
    "x = [5, 1, 8]\n",
    "y = [] # Initialising an empty list\n",
    "\n",
    "print(y)\n",
    "y.append(x.pop(0)) # remove element at index 0 from x and add to y\n",
    "print(\"y:\", y, \"| x:\", x)"
   ]
  },
  {
   "cell_type": "code",
   "execution_count": null,
   "metadata": {},
   "outputs": [],
   "source": [
    "# Concatenate two lists\n",
    "\n",
    "z = x + y\n",
    "print(z)\n",
    "\n",
    "z = y + x\n",
    "print(z)"
   ]
  },
  {
   "cell_type": "markdown",
   "metadata": {},
   "source": [
    "##### List slicing\n",
    "\n",
    "In python you can easily get the sublists using slicing."
   ]
  },
  {
   "cell_type": "code",
   "execution_count": null,
   "metadata": {},
   "outputs": [],
   "source": [
    "# A short trick to create a list containing sequence of integers.\n",
    "# Know more:  https://www.programiz.com/python-programming/methods/built-in/range\n",
    "# Know more: https://www.datacamp.com/community/tutorials/usage-asterisks-python\n",
    "\n",
    "x = [*range(10)] # generated sequence: 0, 1, ...., 9\n",
    "y = [*range(2,10,2)] # generated sequence: 2, 4, ...., 8\n",
    "print(x)\n",
    "print(y)\n",
    "\n",
    "print(\"---\")\n",
    "\n",
    "print(\"Slicing eg - x[:5] =\", x[:5]) # from starting index to 4th index \n",
    "print(\"Slicing eg - x[5:] =\", x[5:]) # from 5th index to last index\n",
    "print(\"Slicing eg - x[3:8] =\", x[3:8]) # from 3rd to 7th index\n",
    "\n",
    "print(\"---\")\n",
    "\n",
    "x[:3] = [*range(3,6)] # changing value of a slice\n",
    "print(\"Change values -\", x)"
   ]
  },
  {
   "cell_type": "markdown",
   "metadata": {},
   "source": [
    "**Know more:** \n",
    "* https://www.programiz.com/python-programming/list"
   ]
  },
  {
   "cell_type": "markdown",
   "metadata": {},
   "source": [
    "---\n",
    "### Conditional statements (if-else)\n",
    "\n",
    "Conditional statements are used for decision making. These are required when you want to execute certain commands based on some condition."
   ]
  },
  {
   "cell_type": "code",
   "execution_count": null,
   "metadata": {},
   "outputs": [],
   "source": [
    "# Most basic example\n",
    "\n",
    "x = 1\n",
    "if x == 1:\n",
    "    print(\"x is 1\")\n",
    "else:\n",
    "    print(\"x is not 1\")"
   ]
  },
  {
   "cell_type": "code",
   "execution_count": null,
   "metadata": {},
   "outputs": [],
   "source": [
    "x = 2\n",
    "if x == 1:\n",
    "    print(\"x is 1\")\n",
    "else:\n",
    "    print(\"x is not 1\")"
   ]
  },
  {
   "cell_type": "code",
   "execution_count": null,
   "metadata": {},
   "outputs": [],
   "source": [
    "# You can add aditional condition\n",
    "\n",
    "x = 2\n",
    "if x == 1:\n",
    "    print(\"x is 1\")\n",
    "elif x == 2:\n",
    "    print(\"x is 2\")\n",
    "else:\n",
    "    print(\"x is neither 1 nor 2\")"
   ]
  },
  {
   "cell_type": "code",
   "execution_count": null,
   "metadata": {},
   "outputs": [],
   "source": [
    "x = 3\n",
    "if x == 1:\n",
    "    print(\"x is 1\")\n",
    "elif x == 2:\n",
    "    print(\"x is 2\")\n",
    "else:\n",
    "    print(\"x is neither 1 nor 2\")"
   ]
  },
  {
   "cell_type": "code",
   "execution_count": null,
   "metadata": {},
   "outputs": [],
   "source": [
    "# Multiple conditions\n",
    "\n",
    "x = 1\n",
    "y = 1\n",
    "\n",
    "if (x == 1) and (y == 1):\n",
    "    print(\"Both x and y is 1\")\n",
    "elif (x == 1) or (y == 1):\n",
    "    print(\"Anyone of x and y is 1\")\n",
    "else:\n",
    "    print(\"None of x and y is 1\")    "
   ]
  },
  {
   "cell_type": "code",
   "execution_count": null,
   "metadata": {},
   "outputs": [],
   "source": [
    "x = 1\n",
    "y = 2\n",
    "\n",
    "if (x == 1) and (y == 1):\n",
    "    print(\"Both x and y is 1\")\n",
    "elif (x == 1) or (y == 1):\n",
    "    print(\"Anyone of x and y is 1\")\n",
    "else:\n",
    "    print(\"None of x and y is 1\")   "
   ]
  },
  {
   "cell_type": "code",
   "execution_count": null,
   "metadata": {},
   "outputs": [],
   "source": [
    "x = 2\n",
    "y = 1\n",
    "\n",
    "if (x == 1) and (y == 1):\n",
    "    print(\"Both x and y is 1\")\n",
    "elif (x == 1) or (y == 1):\n",
    "    print(\"Anyone of x and y is 1\")\n",
    "else:\n",
    "    print(\"None of x and y is 1\")   "
   ]
  },
  {
   "cell_type": "code",
   "execution_count": null,
   "metadata": {},
   "outputs": [],
   "source": [
    "x = 2\n",
    "y = 2\n",
    "\n",
    "if (x == 1) and (y == 1):\n",
    "    print(\"Both x and y is 1\")\n",
    "elif (x == 1) or (y == 1):\n",
    "    print(\"Anyone of x and y is 1\")\n",
    "else:\n",
    "    print(\"None of x and y is 1\")   "
   ]
  },
  {
   "cell_type": "markdown",
   "metadata": {},
   "source": [
    "**Know more:** \n",
    "* https://www.programiz.com/python-programming/if-elif-else"
   ]
  },
  {
   "cell_type": "markdown",
   "metadata": {},
   "source": [
    "---\n",
    "### Loops\n",
    "\n",
    "Loops are used to run same lines multiple times."
   ]
  },
  {
   "cell_type": "code",
   "execution_count": null,
   "metadata": {},
   "outputs": [],
   "source": [
    "# simplest loop\n",
    "for i in range(5):\n",
    "    print(\"Iteration No.:\", i)\n",
    "\n",
    "print('---')\n",
    "\n",
    "for num in range(1, 8, 2):\n",
    "    print(\"Number:\", num)\n",
    "    \n",
    "print('---')\n",
    "\n",
    "for i, num in enumerate(range(1, 8, 2)):\n",
    "    print(\"Iteration No.:\", i, \"and Number is:\", num)"
   ]
  },
  {
   "cell_type": "code",
   "execution_count": null,
   "metadata": {},
   "outputs": [],
   "source": [
    "# Looping over a list\n",
    "x = [2, 5, 6]\n",
    "for i in x:\n",
    "    print(i)"
   ]
  },
  {
   "cell_type": "code",
   "execution_count": null,
   "metadata": {},
   "outputs": [],
   "source": [
    "# Take square of x at each of its index\n",
    "\n",
    "x = [*range(5)]\n",
    "x_sq = [] #empty list\n",
    "\n",
    "for num in x:\n",
    "    x_sq.append(num**2)\n",
    "    \n",
    "print(\"Numbers:\", x)\n",
    "print(\"Squares:\", x_sq)"
   ]
  },
  {
   "cell_type": "code",
   "execution_count": null,
   "metadata": {},
   "outputs": [],
   "source": [
    "# Short-trick: use list comprehension\n",
    "x = [*range(5)]\n",
    "x_sq = [num ** 2 for num in x]\n",
    "\n",
    "print(\"Numbers:\", x)\n",
    "print(\"Squares:\", x_sq)"
   ]
  },
  {
   "cell_type": "code",
   "execution_count": null,
   "metadata": {},
   "outputs": [],
   "source": [
    "# while loop\n",
    "x = 1\n",
    "while x<5:\n",
    "    print(x)\n",
    "    x+=1"
   ]
  },
  {
   "cell_type": "code",
   "execution_count": null,
   "metadata": {},
   "outputs": [],
   "source": [
    "# break and continue\n",
    "\n",
    "for i in range(10):\n",
    "    if i == 2:\n",
    "        # will skip printing of 2\n",
    "        continue\n",
    "        \n",
    "    if i > 4:\n",
    "        # will stop iterations if i gets more than 4\n",
    "        break\n",
    "        \n",
    "    print(i)"
   ]
  },
  {
   "cell_type": "markdown",
   "metadata": {},
   "source": [
    "**Know more:**\n",
    "* https://www.programiz.com/python-programming/for-loop\n",
    "* https://www.programiz.com/python-programming/while-loop\n",
    "* https://www.programiz.com/python-programming/break-continue"
   ]
  },
  {
   "cell_type": "markdown",
   "metadata": {},
   "source": [
    "---\n",
    "### Functions\n",
    "\n",
    "Is defined simply using ```def``` keyword. Can return as many variable as much you want. Can take optional keyword arguments as well."
   ]
  },
  {
   "cell_type": "code",
   "execution_count": null,
   "metadata": {},
   "outputs": [],
   "source": [
    "# hello world function\n",
    "\n",
    "def say_hello():\n",
    "    print(\"Hello World!\")\n",
    "    \n",
    "say_hello()"
   ]
  },
  {
   "cell_type": "code",
   "execution_count": null,
   "metadata": {},
   "outputs": [],
   "source": [
    "# Passing variables\n",
    "\n",
    "def divide(a, b):\n",
    "    return a/b\n",
    "\n",
    "c = divide(4, 2)\n",
    "print(c)"
   ]
  },
  {
   "cell_type": "code",
   "execution_count": null,
   "metadata": {},
   "outputs": [],
   "source": [
    "# Return multiple variables\n",
    "\n",
    "def generate_gp(a):\n",
    "    return a**0, a**1, a**2, a**3, a**4\n",
    "\n",
    "s1, s2, s3, s4, s5 = generate_gp(2)\n",
    "print(s1, s2, s3, s4, s5)"
   ]
  },
  {
   "cell_type": "code",
   "execution_count": null,
   "metadata": {},
   "outputs": [],
   "source": [
    "# function with optional keyword argument\n",
    "\n",
    "def greet(to_whom, greet_type=\"Hi\"):\n",
    "    print(greet_type, to_whom + \"!\")\n",
    "\n",
    "print(\"Takes default value if you do not pass the optional argument\")\n",
    "greet(\"EE604\")\n",
    "\n",
    "print(\"---\\nIf you pass the value of optional argument it will take that one\")\n",
    "greet(\"EE604\", greet_type=\"Bye\")"
   ]
  },
  {
   "cell_type": "markdown",
   "metadata": {},
   "source": [
    "**Know more:**\n",
    "* https://www.programiz.com/python-programming/function\n",
    "* https://www.programiz.com/python-programming/function-argument\n",
    "* https://www.programiz.com/python-programming/recursion"
   ]
  },
  {
   "cell_type": "markdown",
   "metadata": {},
   "source": [
    "---\n",
    "### Defining a Class in Python\n",
    "\n",
    "Know more: https://www.programiz.com/python-programming/class"
   ]
  },
  {
   "cell_type": "code",
   "execution_count": null,
   "metadata": {},
   "outputs": [],
   "source": [
    "class Person:\n",
    "    def __init__(self, name, roll):\n",
    "        self.name = name\n",
    "        self.roll = roll\n",
    "        \n",
    "    def get_roll(self):\n",
    "        return self.roll\n",
    "    \n",
    "    def greet(self, text=\"Hi\"):\n",
    "        print(text, self.name) \n",
    "        \n",
    "p1 = Person(name=\"XYZ\", roll=2020)\n",
    "print(\"Roll No. of\", p1.name, \"is:\", p1.get_roll())\n",
    "p1.greet()\n",
    "p1.greet(text=\"Bye\")\n",
    "\n",
    "print(\"---\")\n",
    "\n",
    "p2 = Person(name=\"ABC\", roll=2021)\n",
    "print(\"Roll No. of\", p2.name, \"is:\", p2.get_roll())\n",
    "p2.greet()\n",
    "p2.greet(text=\"Bye\")"
   ]
  },
  {
   "cell_type": "markdown",
   "metadata": {},
   "source": [
    "---\n",
    "**Resources:** https://www.programiz.com/python-programming"
   ]
  },
  {
   "cell_type": "code",
   "execution_count": null,
   "metadata": {},
   "outputs": [],
   "source": []
  }
 ],
 "metadata": {
  "kernelspec": {
   "display_name": "Python 3",
   "language": "python",
   "name": "python3"
  },
  "language_info": {
   "codemirror_mode": {
    "name": "ipython",
    "version": 3
   },
   "file_extension": ".py",
   "mimetype": "text/x-python",
   "name": "python",
   "nbconvert_exporter": "python",
   "pygments_lexer": "ipython3",
   "version": "3.7.6"
  }
 },
 "nbformat": 4,
 "nbformat_minor": 2
}
