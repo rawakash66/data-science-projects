{
 "cells": [
  {
   "cell_type": "code",
   "execution_count": null,
   "metadata": {},
   "outputs": [],
   "source": [
    "# Copyright 2020 IITK EE604A Image Processing. All Rights Reserved.\n",
    "# \n",
    "# Licensed under the MIT License. Use and/or modification of this code outside of EE604 must reference:\n",
    "#\n",
    "# © IITK EE604A Image Processing \n",
    "# https://github.com/ee604/ee604_assignments\n",
    "#\n",
    "# Author: Shashi Kant Gupta, Chiranjeev Prachand and Prof K. S. Venkatesh, Department of Electrical Engineering, IIT Kanpur"
   ]
  },
  {
   "cell_type": "markdown",
   "metadata": {},
   "source": [
    "# Task 3: Quantization\n",
    "\n",
    "In this task, you have to write a simple code to change the [Quantisation](https://www.tutorialspoint.com/dip/concept_of_quantization.htm) level of a given digital image. The default quantisation level for digital images are 8-bits (i.e. 256 levels). We will use two different quantisation methods.\n",
    "\n",
    "* Uniform\n",
    "* Lloyd Max\n",
    "\n",
    "Please refer to the class slides on both methods. For other reference you can follow [this](http://www.cspl.umd.edu/631/631pub06_sec8bcompressBasic.pdf) or [this](https://web.stanford.edu/class/ee398a/handouts/lectures/05-Quantization.pdf)"
   ]
  },
  {
   "cell_type": "code",
   "execution_count": null,
   "metadata": {},
   "outputs": [],
   "source": [
    "%%bash\n",
    "pip install git+https://github.com/ee604/ee604_plugins"
   ]
  },
  {
   "cell_type": "code",
   "execution_count": null,
   "metadata": {},
   "outputs": [],
   "source": [
    "# Importing required libraries\n",
    "\n",
    "import cv2\n",
    "import numpy as np\n",
    "import matplotlib.pyplot as plt\n",
    "\n",
    "from ee604_plugins import download_dataset\n",
    "\n",
    "download_dataset(assignment_no=1, task_no=3) # download data for this assignment"
   ]
  },
  {
   "cell_type": "markdown",
   "metadata": {},
   "source": [
    "### Task 3.1 Quantisation on Grayscale Image"
   ]
  },
  {
   "cell_type": "code",
   "execution_count": null,
   "metadata": {},
   "outputs": [],
   "source": [
    "def uniform_quantisatioon(img, quantisation_bit=8):\n",
    "    '''\n",
    "    Write a program to change the quantisation level of the given image to 2^quantisation_bit levels. \n",
    "    In this one you have to use uniform quantisation.\n",
    "    \n",
    "    Inputs:                      \n",
    "    + quantisation_bit - (Must be <= 8)\n",
    "                       - Consider uniform quantisation with level from [0, 2^quantisation_bit)\n",
    "                       - For eg. for 8-bit quantisation - There should be 256 different quantisation levels\n",
    "                       - for 1-bit quantisation - There should be 2 different quantisation levels\n",
    "                       - Note that range should always be between 0, 255\n",
    "    \n",
    "    Ouputs:\n",
    "    + out_img - numpy array (of dtype np.uint8)\n",
    "    \n",
    "    Allowed external package:\n",
    "    + You are free to use np.histogram module or any suitable module which you will need.\n",
    "    + You must not use any direct implementation.\n",
    "    \n",
    "    '''\n",
    "    \n",
    "    #############################\n",
    "    # Start your code from here #\n",
    "    #############################\n",
    "    \n",
    "    # Replace with your code...\n",
    "    \n",
    "    #############################\n",
    "    # End your code here ########\n",
    "    #############################    \n",
    "    \n",
    "    return img"
   ]
  },
  {
   "cell_type": "code",
   "execution_count": null,
   "metadata": {},
   "outputs": [],
   "source": [
    "def nonuniform_quantisatioon(img, quantisation_bit=8):\n",
    "    '''\n",
    "    Write a program to change the quantisation level of the given image to 2^quantisation_bit levels. \n",
    "    In this one you have to use Lloyd-Max non-uniform quantisation method.\n",
    "    \n",
    "    Inputs:                      \n",
    "    + quantisation_bit - (Must be <= 8)\n",
    "                       - Consider uniform quantisation with level from [0, 2^quantisation_bit)\n",
    "                       - For eg. for 8-bit quantisation - There should be 256 different quantisation levels\n",
    "                       - for 1-bit quantisation - There should be 2 different quantisation levels i.e. '0' and '255'\n",
    "                       - Note that range should always between 0, 255\n",
    "    \n",
    "    Ouputs:\n",
    "    + out_img - numpy array (of dtype np.uint8)\n",
    "    \n",
    "    Allowed external package:\n",
    "    + You are free to use np.histogram module or any suitable module which you will need.\n",
    "    + You must not use any direct implementation.\n",
    "    \n",
    "    '''\n",
    "    \n",
    "    #############################\n",
    "    # Start your code from here #\n",
    "    #############################\n",
    "    \n",
    "    # Replace with your code...\n",
    "    \n",
    "    #############################\n",
    "    # End your code here ########\n",
    "    #############################    \n",
    "    \n",
    "    return img"
   ]
  },
  {
   "cell_type": "markdown",
   "metadata": {},
   "source": [
    "#### Quantise the given image for following bit-levels = 2, 4, 6, 8 using both the methods. \n",
    "Run below cell to plot images in a pyplot table and write your observation on the differences."
   ]
  },
  {
   "cell_type": "code",
   "execution_count": null,
   "metadata": {},
   "outputs": [],
   "source": [
    "# Do not change codes inside this cell\n",
    "# Add your observations in next cell\n",
    "\n",
    "boat_gray = cv2.imread(\"data/boat_gray.jpg\", 0)\n",
    "\n",
    "def plot_frame(subplot_id, img, name):\n",
    "    plt.subplot(4, 2, 1 + int(subplot_id))\n",
    "    plt.imshow(np.uint8(img), cmap=\"gray\")\n",
    "    plt.axis(\"off\")\n",
    "    plt.title(name)\n",
    "    \n",
    "plt.figure(figsize=(16, 20))\n",
    "\n",
    "count = 0\n",
    "for i in [2, 4, 6, 8]:\n",
    "    img_uni = uniform_quantisatioon(boat_gray, quantisation_bit=i)\n",
    "    plot_frame(count, img_uni, \"Uniform (\" + str(i) + \" bit)\")\n",
    "    \n",
    "    img_lloyd = nonuniform_quantisatioon(boat_gray, quantisation_bit=i)\n",
    "    plot_frame(count+1, img_lloyd, \"Lloyd Max (\" + str(i) + \" bit)\")\n",
    "    \n",
    "    count += 2\n",
    "    \n",
    "plt.show()"
   ]
  },
  {
   "cell_type": "code",
   "execution_count": null,
   "metadata": {},
   "outputs": [],
   "source": [
    "your_observation = \"\"\"\n",
    "Replace this with your observations.\n",
    "\"\"\"\n",
    "\n",
    "print(your_observation)"
   ]
  },
  {
   "cell_type": "markdown",
   "metadata": {},
   "source": [
    "### Task 3.2 Quantisation on Colored Images\n",
    "\n",
    "Use your previous implementation to apply quantisation to each individual channels of colored image \"separately\"."
   ]
  },
  {
   "cell_type": "code",
   "execution_count": null,
   "metadata": {},
   "outputs": [],
   "source": [
    "def uniform_color_quantisatioon(img, quantisation_bit=8):\n",
    "    '''\n",
    "    Write a program to change the quantisation level of the given image to 2^quantisation_bit levels. \n",
    "    In this one you have to use uniform quantisation.\n",
    "    \n",
    "    Inputs:                      \n",
    "    + quantisation_bit - (Must be <= 8)\n",
    "                       - Consider uniform quantisation with level from [0, 2^quantisation_bit)\n",
    "                       - For eg. for 8-bit quantisation - There should be 256 different quantisation levels\n",
    "                       - for 1-bit quantisation - There should be 2 different quantisation levels\n",
    "                       - Note that range should always be between 0, 255\n",
    "    \n",
    "    Ouputs:\n",
    "    + out_img - numpy array (of dtype np.uint8)\n",
    "    \n",
    "    Allowed external package:\n",
    "    + You are free to use np.histogram module or any suitable module which you will need.\n",
    "    + You must not use any direct implementation.\n",
    "    \n",
    "    Hint:\n",
    "    + Use uniform_quantisation() to each channel.\n",
    "    \n",
    "    '''\n",
    "    \n",
    "    #############################\n",
    "    # Start your code from here #\n",
    "    #############################\n",
    "    \n",
    "    # Replace with your code...\n",
    "    \n",
    "    #############################\n",
    "    # End your code here ########\n",
    "    #############################    \n",
    "    \n",
    "    return img"
   ]
  },
  {
   "cell_type": "code",
   "execution_count": null,
   "metadata": {},
   "outputs": [],
   "source": [
    "def nonuniform_color_quantisatioon(img, quantisation_bit=8):\n",
    "    '''\n",
    "    Write a program to change the quantisation level of the given image to 2^quantisation_bit levels. \n",
    "    In this one you have to use Lloyd-Max non-uniform quantisation method.\n",
    "    \n",
    "    Inputs:                      \n",
    "    + quantisation_bit - (Must be <= 8)\n",
    "                       - Consider uniform quantisation with level from [0, 2^quantisation_bit)\n",
    "                       - For eg. for 8-bit quantisation - There should be 256 different quantisation levels\n",
    "                       - for 1-bit quantisation - There should be 2 different quantisation levels i.e. '0' and '255'\n",
    "                       - Note that range should always between 0, 255\n",
    "    \n",
    "    Ouputs:\n",
    "    + out_img - numpy array (of dtype np.uint8)\n",
    "    \n",
    "    Allowed external package:\n",
    "    + You are free to use np.histogram module or any suitable module which you will need.\n",
    "    + You must not use any direct implementation.\n",
    "    \n",
    "    Hint:\n",
    "    + Use nonuniform_quantisation() to each channel.\n",
    "    \n",
    "    '''\n",
    "    \n",
    "    #############################\n",
    "    # Start your code from here #\n",
    "    #############################\n",
    "    \n",
    "    # Replace with your code...\n",
    "    \n",
    "    #############################\n",
    "    # End your code here ########\n",
    "    #############################    \n",
    "    \n",
    "    return img"
   ]
  },
  {
   "cell_type": "markdown",
   "metadata": {},
   "source": [
    "#### Quantise the given image for following bit-levels = 2, 4, 6, 8 using both the methods. \n",
    "Run below cell to plot images in a pyplot table and write your observation on the differences."
   ]
  },
  {
   "cell_type": "code",
   "execution_count": null,
   "metadata": {
    "scrolled": true
   },
   "outputs": [],
   "source": [
    "# Do not change codes inside this cell\n",
    "# Add your observations in next cell\n",
    "\n",
    "boat_color = cv2.imread(\"data/boat.jpg\")\n",
    "\n",
    "def plot_frame(subplot_id, img, name):\n",
    "    plt.subplot(4, 2, 1 + int(subplot_id))\n",
    "    plt.imshow(img[:, :, [2, 1, 0]])\n",
    "    plt.axis(\"off\")\n",
    "    plt.title(name)\n",
    "    \n",
    "plt.figure(figsize=(16, 20))\n",
    "\n",
    "count = 0\n",
    "for i in [2, 4, 6, 8]:\n",
    "    img_uni = uniform_color_quantisatioon(boat_color, quantisation_bit=i)\n",
    "    plot_frame(count, img_uni, \"Uniform (\" + str(i) + \" bit)\")\n",
    "    \n",
    "    img_lloyd = nonuniform_color_quantisatioon(boat_color, quantisation_bit=i)\n",
    "    plot_frame(count+1, img_lloyd, \"Lloyd Max (\" + str(i) + \" bit)\")\n",
    "    \n",
    "    count += 2\n",
    "    \n",
    "plt.show()"
   ]
  },
  {
   "cell_type": "code",
   "execution_count": null,
   "metadata": {},
   "outputs": [],
   "source": [
    "your_observation = \"\"\"\n",
    "Replace this with your observations.\n",
    "\"\"\"\n",
    "\n",
    "print(your_observation)"
   ]
  },
  {
   "cell_type": "code",
   "execution_count": null,
   "metadata": {},
   "outputs": [],
   "source": []
  }
 ],
 "metadata": {
  "kernelspec": {
   "display_name": "Python 3",
   "language": "python",
   "name": "python3"
  },
  "language_info": {
   "codemirror_mode": {
    "name": "ipython",
    "version": 3
   },
   "file_extension": ".py",
   "mimetype": "text/x-python",
   "name": "python",
   "nbconvert_exporter": "python",
   "pygments_lexer": "ipython3",
   "version": "3.7.6"
  }
 },
 "nbformat": 4,
 "nbformat_minor": 4
}
