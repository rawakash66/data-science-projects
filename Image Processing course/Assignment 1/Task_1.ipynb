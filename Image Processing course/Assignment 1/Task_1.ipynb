{
 "cells": [
  {
   "cell_type": "code",
   "execution_count": null,
   "metadata": {},
   "outputs": [],
   "source": [
    "# Copyright 2020 IITK EE604A Image Processing. All Rights Reserved.\n",
    "# \n",
    "# Licensed under the MIT License. Use and/or modification of this code outside of EE604 must reference:\n",
    "#\n",
    "# © IITK EE604A Image Processing \n",
    "# https://github.com/ee604/ee604_assignments\n",
    "#\n",
    "# Author: Shashi Kant Gupta, Chiranjeev Prachand and Prof K. S. Venkatesh, Department of Electrical Engineering, IIT Kanpur"
   ]
  },
  {
   "cell_type": "markdown",
   "metadata": {},
   "source": [
    "# Task 1: Basic Operation on Images - Number Display\n",
    "\n",
    "In this task, you have to write a simple [Halftoning Program](https://en.wikipedia.org/wiki/Halftone) to create a B&W number display. Aim for this assignment is to check your basic image manipulation skills.\n",
    "\n",
    "Our Number Display should contain **3 digits**. Each digit should be made using **5x3 dot patterns** (Radius of dot patterns should be **25 pixels**. A single digit should enclose within a rectangle of **300x180 pixels**. Your number display should enclose within a rectangle of **300x660 pixel** wide rectangle. There should be a space of **60 pixels** between two digits.\n",
    "\n",
    "**This is how your display should be if N = 123:**\n",
    "\n",
    "![](https://github.com/ee604/ee604_assignments/raw/master/assignment_1/imgs/t1_example.jpg)\n",
    "\n",
    "**Examples of single digits**\n",
    "\n",
    "![](https://github.com/ee604/ee604_assignments/raw/master/assignment_1/imgs/t1_digits.jpg)"
   ]
  },
  {
   "cell_type": "code",
   "execution_count": null,
   "metadata": {},
   "outputs": [],
   "source": [
    "%%bash\n",
    "pip install git+https://github.com/ee604/ee604_plugins"
   ]
  },
  {
   "cell_type": "code",
   "execution_count": null,
   "metadata": {},
   "outputs": [],
   "source": [
    "# Importing required libraries\n",
    "\n",
    "import cv2\n",
    "import numpy as np\n",
    "from ee604_plugins import cv2_imshow"
   ]
  },
  {
   "cell_type": "code",
   "execution_count": null,
   "metadata": {},
   "outputs": [],
   "source": [
    "def generate_number_display(N=123):\n",
    "    '''\n",
    "    Write your program to generate 3 digit number display as described above. \n",
    "    Digits should be white and background black.\n",
    "    \n",
    "    Inputs:\n",
    "    + N - A '3' digit number to be printed.\n",
    "    \n",
    "    Ouputs:\n",
    "    + out_img - your 300x660 numpy array (of dtype np.uint8) as the display image.\n",
    "              - For white pixel use value = 255\n",
    "              - For black pixel use value = 0\n",
    "    \n",
    "    Allowed external package:\n",
    "    + You can use cv2.circle to draw dots. \n",
    "    + You are not allowed to use any other external package.\n",
    "    \n",
    "    Hint:\n",
    "    + Create a masking array to place white dots across a black 300x660 display image.\n",
    "    \n",
    "    '''\n",
    "    out_img = np.zeros((300, 660), dtype=np.uint8) # Intialise with blank display\n",
    "    \n",
    "    #############################\n",
    "    # Start your code from here #\n",
    "    #############################\n",
    "    \n",
    "    # Replace with your code...\n",
    "    \n",
    "    #############################\n",
    "    # End your code here ########\n",
    "    #############################    \n",
    "    \n",
    "    return np.uint8(out_img)"
   ]
  },
  {
   "cell_type": "code",
   "execution_count": null,
   "metadata": {},
   "outputs": [],
   "source": [
    "# Test Run\n",
    "img = generate_number_display()\n",
    "cv2_imshow(img)"
   ]
  },
  {
   "cell_type": "code",
   "execution_count": null,
   "metadata": {},
   "outputs": [],
   "source": [
    "# Submission >>>>>>>>>>>>>>>>>>>>>\n",
    "# Do not change codes inside this cell otherwise our autograder will fail.\n",
    "\n",
    "test_numbers = [604, 987, 645, 159, 963, 248]\n",
    "\n",
    "gen_imgs = []\n",
    "for N in test_numbers:\n",
    "    gen_imgs.append(generate_number_display(N=N))\n",
    "    \n",
    "task1_submission = np.array(gen_imgs)"
   ]
  }
 ],
 "metadata": {
  "kernelspec": {
   "display_name": "Python 3",
   "language": "python",
   "name": "python3"
  },
  "language_info": {
   "codemirror_mode": {
    "name": "ipython",
    "version": 3
   },
   "file_extension": ".py",
   "mimetype": "text/x-python",
   "name": "python",
   "nbconvert_exporter": "python",
   "pygments_lexer": "ipython3",
   "version": "3.7.6"
  }
 },
 "nbformat": 4,
 "nbformat_minor": 4
}
