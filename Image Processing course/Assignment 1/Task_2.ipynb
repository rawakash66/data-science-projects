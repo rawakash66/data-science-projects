{
 "cells": [
  {
   "cell_type": "code",
   "execution_count": 1,
   "metadata": {},
   "outputs": [],
   "source": [
    "# Copyright 2020 IITK EE604A Image Processing. All Rights Reserved.\n",
    "# \n",
    "# Licensed under the MIT License. Use and/or modification of this code outside of EE604 must reference:\n",
    "#\n",
    "# © IITK EE604A Image Processing \n",
    "# https://github.com/ee604/ee604_assignments\n",
    "#\n",
    "# Author: Shashi Kant Gupta, Chiranjeev Prachand and Prof K. S. Venkatesh, Department of Electrical Engineering, IIT Kanpur"
   ]
  },
  {
   "cell_type": "markdown",
   "metadata": {},
   "source": [
    "# Task 2: Image resizing (Upsampling / Downsampling)\n",
    "\n",
    "Note that in digital image processing upsampling or downsampling simply means resizing your image. When you upsample you zoom the image and vice-versa. We will use two different spatial domain approach (interpolation method) to achieve this:\n",
    "1. Nearest Neighbour interpolation/ Pixel replication method [Wiki](https://en.wikipedia.org/wiki/Nearest-neighbor_interpolation)\n",
    "2. Bilinear interpolation method [Wiki](https://en.wikipedia.org/wiki/Bilinear_interpolation)\n",
    "\n",
    "In this assignment we will will not analyse the frequency domain signal."
   ]
  },
  {
   "cell_type": "code",
   "execution_count": null,
   "metadata": {},
   "outputs": [],
   "source": [
    "%%bash\n",
    "pip install git+https://github.com/ee604/ee604_plugins"
   ]
  },
  {
   "cell_type": "code",
   "execution_count": 3,
   "metadata": {},
   "outputs": [],
   "source": [
    "# Importing required libraries\n",
    "\n",
    "import cv2\n",
    "import numpy as np\n",
    "import matplotlib.pyplot as plt\n",
    "\n",
    "from ee604_plugins import download_dataset, cv2_imshow\n",
    "\n",
    "download_dataset(assignment_no=1, task_no=2) # download data for this assignment"
   ]
  },
  {
   "cell_type": "code",
   "execution_count": 43,
   "metadata": {},
   "outputs": [],
   "source": [
    "data = cv2.imread(\"data/parallel_lines.jpg\")"
   ]
  },
  {
   "cell_type": "code",
   "execution_count": 49,
   "metadata": {},
   "outputs": [],
   "source": [
    "def resize_nn(img, k=1):\n",
    "    '''\n",
    "    Write a program to resample the given image by a factor 'k' using Nearest Neighbour method\n",
    "    \n",
    "    Inputs:\n",
    "    + img - Original image\n",
    "    + k - resampling factor, therefore if input image size is 300x300 \n",
    "        - and k=0.5 ==> output image size = 150x150\n",
    "    \n",
    "    Ouputs:\n",
    "    + out_img - numpy array (of dtype np.uint8) containing the output image.\n",
    "    \n",
    "    Allowed external package:\n",
    "    + You are not allowed to use any cv2 resize module or any other external package. \n",
    "    \n",
    "    '''\n",
    "    \n",
    "    #############################\n",
    "    # Start your code from here #\n",
    "    #############################\n",
    "    \n",
    "    # Replace with your code...\n",
    "    \n",
    "    #############################\n",
    "    # End your code here ########\n",
    "    #############################    \n",
    "    \n",
    "    return out_img"
   ]
  },
  {
   "cell_type": "code",
   "execution_count": 50,
   "metadata": {},
   "outputs": [],
   "source": [
    "def resize_bilinear(img, k=1):\n",
    "    '''\n",
    "    Write a program to resample the given image by a factor 'k' using Bilinear interpolation method.\n",
    "    \n",
    "    Inputs:\n",
    "    + img - Original image\n",
    "    + k - resampling factor\n",
    "    \n",
    "    Ouputs:\n",
    "    + out_img - numpy array (of dtype np.uint8) containing the output image.\n",
    "    \n",
    "    Allowed external package:\n",
    "    + You are not allowed to use any cv2 resize module or any other external package. \n",
    "    \n",
    "    '''\n",
    "    \n",
    "    #############################\n",
    "    # Start your code from here #\n",
    "    #############################\n",
    "    \n",
    "    # Replace with your code...\n",
    "    \n",
    "    #############################\n",
    "    # End your code here ########\n",
    "    #############################    \n",
    "    \n",
    "    return out_img"
   ]
  },
  {
   "cell_type": "markdown",
   "metadata": {},
   "source": [
    "#### Sample the given image for following values of k = 0.5, 0.51, 0.99, 2, 2.1 using both the methods. \n",
    "Plot the images using `cv2_imshow` and write your observation on the differences with an intuitive explanation.\n"
   ]
  },
  {
   "cell_type": "code",
   "execution_count": null,
   "metadata": {},
   "outputs": [],
   "source": [
    "orig_img = np.copy(data) # Resample this image\n",
    "\n",
    "#############################\n",
    "# Start your code from here #\n",
    "#############################\n",
    "\n",
    "# Replace with your code...\n",
    "\n",
    "#############################\n",
    "# End your code here ########\n",
    "#############################  "
   ]
  },
  {
   "cell_type": "code",
   "execution_count": 48,
   "metadata": {},
   "outputs": [
    {
     "name": "stdout",
     "output_type": "stream",
     "text": [
      "\n",
      "Replace this text with your observations.\n",
      "\n"
     ]
    }
   ],
   "source": [
    "your_observation = \"\"\"\n",
    "Replace this with your observations.\n",
    "\"\"\"\n",
    "\n",
    "print(your_observation)"
   ]
  }
 ],
 "metadata": {
  "kernelspec": {
   "display_name": "Python 3",
   "language": "python",
   "name": "python3"
  },
  "language_info": {
   "codemirror_mode": {
    "name": "ipython",
    "version": 3
   },
   "file_extension": ".py",
   "mimetype": "text/x-python",
   "name": "python",
   "nbconvert_exporter": "python",
   "pygments_lexer": "ipython3",
   "version": "3.7.6"
  }
 },
 "nbformat": 4,
 "nbformat_minor": 4
}
